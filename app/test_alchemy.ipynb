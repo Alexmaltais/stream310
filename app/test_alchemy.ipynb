{
 "cells": [
  {
   "cell_type": "code",
   "execution_count": 18,
   "id": "889577e8",
   "metadata": {},
   "outputs": [],
   "source": [
    "import streamlit as st\n",
    "import time\n",
    "import numpy as np\n",
    "import altair as alt\n",
    "\n",
    "import snowflake.connector\n",
    "from snowflake.sqlalchemy import URL\n",
    "from sqlalchemy import create_engine\n",
    "from sqlalchemy.orm import sessionmaker\n",
    "from sqlalchemy.sql import text\n",
    "import os\n",
    "import pandas as pd\n",
    "from pathlib import Path\n",
    "\n",
    "import copy"
   ]
  },
  {
   "cell_type": "code",
   "execution_count": 23,
   "id": "212c4eb5",
   "metadata": {},
   "outputs": [
    {
     "name": "stderr",
     "output_type": "stream",
     "text": [
      "2022-12-20 21:27:46.247 Snowflake Connector for Python Version: 2.8.3, Python Version: 3.10.8, Platform: Windows-10-10.0.19044-SP0\n",
      "2022-12-20 21:27:46.248 This connection is in OCSP Fail Open Mode. TLS Certificates would be checked for validity and revocation status. Any other Certificate Revocation related exceptions or OCSP Responder failures would be disregarded in favor of connectivity.\n"
     ]
    },
    {
     "name": "stdout",
     "output_type": "stream",
     "text": [
      "Initiating login request with your identity provider. A browser window should have opened for you to complete the login. If you can't see it, check existing browser windows, or your OS settings. Press CTRL+C to abort and try again...\n"
     ]
    }
   ],
   "source": [
    "R_SNOFLK_USER = os.getenv('R_SNOFLK_USER')\n",
    "\n",
    "@st.experimental_singleton\n",
    "def get_session():\n",
    "    \n",
    "    snowflake.connector.paramstyle = 'pyformat'\n",
    "\n",
    "    conn = snowflake.connector.connect(\n",
    "        user=R_SNOFLK_USER,\n",
    "        password='N/A',\n",
    "        account='ssq.canada-central.azure',\n",
    "        authenticator='externalbrowser'\n",
    "        )\n",
    "\n",
    "    conn_cs = conn.cursor()\n",
    "    return conn_cs\n",
    "\n",
    "cs = get_session()"
   ]
  },
  {
   "cell_type": "code",
   "execution_count": 3,
   "id": "53a27409",
   "metadata": {},
   "outputs": [],
   "source": [
    "date_debut = '2021-12-31'\n",
    "date_fin = '2022-11-27'\n",
    "date_debut_vie_ssq = 20211231\n",
    "date_fin_vie_ssq = 20221127"
   ]
  },
  {
   "cell_type": "code",
   "execution_count": 26,
   "id": "4b80fb67",
   "metadata": {},
   "outputs": [
    {
     "name": "stderr",
     "output_type": "stream",
     "text": [
      "2022-12-20 21:30:05.071 query: [USE DATABASE M_ASSURANCE_INDIVIDUELLE]\n",
      "2022-12-20 21:30:06.063 query execution done\n",
      "2022-12-20 21:30:06.067 Number of results in first chunk: 1\n",
      "2022-12-20 21:30:06.072 query: [USE SCHEMA ACCES_BII_DATM]\n",
      "2022-12-20 21:30:06.262 query execution done\n",
      "2022-12-20 21:30:06.262 Number of results in first chunk: 1\n",
      "2022-12-20 21:30:06.263 query: [SELECT  PRODC.PRODC_NUMBR AS NO_OIPA, sum(vente.MNT_NOVL_ARGNT + vente.MNT_NOVL_...]\n",
      "2022-12-20 21:30:25.745 query execution done\n",
      "2022-12-20 21:30:25.748 Number of results in first chunk: 3001\n"
     ]
    }
   ],
   "source": [
    "@st.experimental_singleton\n",
    "def query_epargne():\n",
    "\n",
    "    cs.execute('USE DATABASE M_ASSURANCE_INDIVIDUELLE')\n",
    "    cs.execute('USE SCHEMA ACCES_BII_DATM')\n",
    "\n",
    "    query_LC_epargne = \"\"\"\\\n",
    "    SELECT  PRODC.PRODC_NUMBR AS NO_OIPA,\n",
    "            sum(vente.MNT_NOVL_ARGNT + vente.MNT_NOVL_RVD_EMIS) AS ENTREES\n",
    "            \n",
    "    FROM    VENTE\n",
    "\n",
    "    JOIN PRODC ON VENTE.ID_CONS=PRODC.ID_PRODC\n",
    "\n",
    "    WHERE   date(DATE_PROD) > %(debut)s AND\n",
    "            date(DATE_PROD) < %(fin)s\n",
    "            \n",
    "    GROUP BY PRODC.PRODC_NUMBR;\"\"\"\n",
    "\n",
    "    cs.execute(query_LC_epargne, {\"debut\": date_debut, \"fin\": date_fin})\n",
    "\n",
    "    df_epargne = pd.DataFrame(cs.fetch_pandas_all())\n",
    "\n",
    "    return df_epargne\n",
    "\n",
    "df_epargne_LC = copy.deepcopy(query_epargne())"
   ]
  },
  {
   "cell_type": "code",
   "execution_count": 21,
   "id": "3db225e2",
   "metadata": {},
   "outputs": [
    {
     "data": {
      "text/plain": [
       "<snowflake.connector.cursor.SnowflakeCursor at 0x1f885bd86a0>"
      ]
     },
     "execution_count": 21,
     "metadata": {},
     "output_type": "execute_result"
    }
   ],
   "source": [
    "cs"
   ]
  },
  {
   "cell_type": "code",
   "execution_count": 32,
   "id": "67fbfdde",
   "metadata": {},
   "outputs": [
    {
     "data": {
      "text/plain": [
       "0       PCZ-129888\n",
       "1       CBC-123843\n",
       "2       C9J-124686\n",
       "3       PR5-660068\n",
       "4       OSR-129367\n",
       "           ...    \n",
       "4376    WSX-136711\n",
       "4377    V0W-136002\n",
       "4378    OLY-129196\n",
       "4379    W3X-136991\n",
       "4380    XIU-137364\n",
       "Name: NO_OIPA, Length: 4381, dtype: object"
      ]
     },
     "execution_count": 32,
     "metadata": {},
     "output_type": "execute_result"
    }
   ],
   "source": [
    "df_epargne_LC[\"NO_OIPA\"]"
   ]
  },
  {
   "cell_type": "code",
   "execution_count": null,
   "id": "38c85a86",
   "metadata": {},
   "outputs": [],
   "source": []
  }
 ],
 "metadata": {
  "kernelspec": {
   "display_name": "stream310",
   "language": "python",
   "name": "stream310"
  },
  "language_info": {
   "codemirror_mode": {
    "name": "ipython",
    "version": 3
   },
   "file_extension": ".py",
   "mimetype": "text/x-python",
   "name": "python",
   "nbconvert_exporter": "python",
   "pygments_lexer": "ipython3",
   "version": "3.10.8"
  }
 },
 "nbformat": 4,
 "nbformat_minor": 5
}

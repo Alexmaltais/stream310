{
 "cells": [
  {
   "cell_type": "code",
   "execution_count": 1,
   "id": "e9617106",
   "metadata": {},
   "outputs": [],
   "source": [
    "import streamlit as st\n",
    "import time\n",
    "import numpy as np\n",
    "\n",
    "import snowflake.connector\n",
    "import os\n",
    "import pandas as pd\n",
    "from pathlib import Path"
   ]
  },
  {
   "cell_type": "code",
   "execution_count": 2,
   "id": "9cef9f18",
   "metadata": {},
   "outputs": [
    {
     "name": "stderr",
     "output_type": "stream",
     "text": [
      "2022-12-24 11:46:00.745 INFO    snowflake.connector.connection: Snowflake Connector for Python Version: 2.8.3, Python Version: 3.10.8, Platform: Windows-10-10.0.19044-SP0\n",
      "2022-12-24 11:46:00.750 INFO    snowflake.connector.connection: This connection is in OCSP Fail Open Mode. TLS Certificates would be checked for validity and revocation status. Any other Certificate Revocation related exceptions or OCSP Responder failures would be disregarded in favor of connectivity.\n",
      "2022-12-24 11:46:00.750 INFO    snowflake.connector.connection: Setting use_openssl_only mode to False\n"
     ]
    },
    {
     "name": "stdout",
     "output_type": "stream",
     "text": [
      "Initiating login request with your identity provider. A browser window should have opened for you to complete the login. If you can't see it, check existing browser windows, or your OS settings. Press CTRL+C to abort and try again...\n"
     ]
    }
   ],
   "source": [
    "def connect():\n",
    "    \n",
    "    R_SNOFLK_USER = os.getenv('R_SNOFLK_USER')\n",
    "\n",
    "    snowflake.connector.paramstyle = 'pyformat'\n",
    "\n",
    "    conn = snowflake.connector.connect(\n",
    "        user=R_SNOFLK_USER,\n",
    "        password='N/A',\n",
    "        account='ssq.canada-central.azure',\n",
    "        authenticator='externalbrowser'\n",
    "        )\n",
    "    \n",
    "    res_connect = conn.cursor()\n",
    "\n",
    "    return res_connect\n",
    "\n",
    "cs = connect()"
   ]
  },
  {
   "cell_type": "code",
   "execution_count": 3,
   "id": "f8796e58",
   "metadata": {},
   "outputs": [],
   "source": [
    "date_debut = '2021-12-31'\n",
    "date_fin = '2022-11-27'\n",
    "date_debut_vie_ssq = 20211231\n",
    "date_fin_vie_ssq = 20221127"
   ]
  },
  {
   "cell_type": "code",
   "execution_count": 4,
   "id": "29d038d2",
   "metadata": {},
   "outputs": [
    {
     "name": "stderr",
     "output_type": "stream",
     "text": [
      "2022-12-24 11:49:08.216 INFO    snowflake.connector.cursor: query: [USE DATABASE M_ASSURANCE_INDIVIDUELLE]\n",
      "2022-12-24 11:49:09.331 INFO    snowflake.connector.cursor: query execution done\n",
      "2022-12-24 11:49:09.336 INFO    snowflake.connector.cursor: Number of results in first chunk: 1\n",
      "2022-12-24 11:49:09.340 INFO    snowflake.connector.cursor: query: [USE SCHEMA ACCES_BII_DATM]\n",
      "2022-12-24 11:49:09.499 INFO    snowflake.connector.cursor: query execution done\n",
      "2022-12-24 11:49:09.504 INFO    snowflake.connector.cursor: Number of results in first chunk: 1\n",
      "2022-12-24 11:49:09.506 INFO    snowflake.connector.cursor: query: [SELECT  VENTE.DATE_PROD, PRODC.PRODC_NUMBR AS NO_OIPA, sum(vente.MNT_NOVL_ARGNT ...]\n",
      "2022-12-24 11:49:27.787 INFO    snowflake.connector.cursor: query execution done\n",
      "2022-12-24 11:49:27.790 INFO    snowflake.connector.cursor: Number of results in first chunk: 2613\n"
     ]
    }
   ],
   "source": [
    "cs.execute('USE DATABASE M_ASSURANCE_INDIVIDUELLE')\n",
    "cs.execute('USE SCHEMA ACCES_BII_DATM')\n",
    "\n",
    "query_LC_epargne = \"\"\"\\\n",
    "SELECT  VENTE.DATE_PROD,\n",
    "        PRODC.PRODC_NUMBR AS NO_OIPA,\n",
    "        sum(vente.MNT_NOVL_ARGNT + vente.MNT_NOVL_RVD_EMIS) AS ENTREES\n",
    "        \n",
    "FROM    VENTE\n",
    "\n",
    "JOIN PRODC ON VENTE.ID_CONS=PRODC.ID_PRODC\n",
    "\n",
    "WHERE   date(DATE_PROD) > %(debut)s AND\n",
    "        date(DATE_PROD) < %(fin)s\n",
    "        \n",
    "GROUP BY VENTE.DATE_PROD,\n",
    "        PRODC.PRODC_NUMBR;\"\"\"\n",
    "\n",
    "# df_epargne_LC = pd.read_sql(query_LC_epargne, conn)\n",
    "\n",
    "\n",
    "cs.execute(query_LC_epargne, {\"debut\": date_debut, \"fin\": date_fin})\n",
    "\n",
    "df_epargne_LC = pd.DataFrame(cs.fetch_pandas_all())\n",
    "\n",
    "df_epargne_LC['NO_OIPA'] = df_epargne_LC['NO_OIPA'].str[4:10]\n",
    "\n",
    "df_epargne_LC.dropna(axis=0, how='any', inplace=True)\n",
    "\n",
    "df_epargne_LC['ENTREES'] = df_epargne_LC['ENTREES'].astype(float)\n"
   ]
  },
  {
   "cell_type": "markdown",
   "id": "6389e307",
   "metadata": {},
   "source": [
    "# LIFE"
   ]
  },
  {
   "cell_type": "code",
   "execution_count": 6,
   "id": "272e55f8",
   "metadata": {},
   "outputs": [
    {
     "name": "stderr",
     "output_type": "stream",
     "text": [
      "2022-12-20 10:10:38.946 INFO    snowflake.connector.cursor: query: [SELECT  PRODC.PRODC_NUMBR AS NO_OIPA, sum(vente.MNT_PRIM_EMIS + vente.MNT_INV_PR...]\n",
      "2022-12-20 10:10:54.747 INFO    snowflake.connector.cursor: query execution done\n",
      "2022-12-20 10:10:54.748 INFO    snowflake.connector.cursor: Number of results in first chunk: 3001\n"
     ]
    }
   ],
   "source": [
    "query_LC_vie = \"\"\"\\\n",
    "SELECT  PRODC.PRODC_NUMBR AS NO_OIPA,\n",
    "        sum(vente.MNT_PRIM_EMIS + vente.MNT_INV_PRIM_EMIS) AS PRIME_EMIS\n",
    "        \n",
    "FROM    VENTE\n",
    "\n",
    "JOIN PRODC ON VENTE.ID_CONS=PRODC.ID_PRODC\n",
    "\n",
    "WHERE   date(DATE_PROD) > %(debut)s AND\n",
    "        date(DATE_PROD) < %(fin)s\n",
    "        \n",
    "GROUP BY PRODC.PRODC_NUMBR;\"\"\"\n",
    "\n",
    "cs.execute(query_LC_vie, {\"debut\": date_debut, \"fin\": date_fin})\n",
    "\n",
    "df_vie_LC = pd.DataFrame(cs.fetch_pandas_all())\n",
    "\n",
    "df_vie_LC['NO_OIPA'] = df_vie_LC['NO_OIPA'].str[4:10]\n",
    "\n",
    "df_vie_LC.dropna(axis=0, how='any', inplace=True)\n",
    "\n",
    "df_vie_LC['PRIME_EMIS'] = df_vie_LC['PRIME_EMIS'].astype(float)"
   ]
  },
  {
   "cell_type": "markdown",
   "id": "73defa7d",
   "metadata": {
    "scrolled": true
   },
   "source": [
    "# Merge"
   ]
  },
  {
   "cell_type": "code",
   "execution_count": 23,
   "id": "b318cf72",
   "metadata": {},
   "outputs": [
    {
     "data": {
      "text/plain": [
       "['ENTREES', 'PRIME_EMIS']"
      ]
     },
     "execution_count": 23,
     "metadata": {},
     "output_type": "execute_result"
    }
   ],
   "source": [
    "merged_LC = pd.merge(df_epargne_LC, df_vie_LC, on=\"NO_OIPA\", how=\"outer\")\n",
    "all_columns = tuple(merged_LC.columns)\n",
    "my_columns = [1, 2]\n",
    "columns = [all_columns[i] for i in my_columns]\n",
    "columns"
   ]
  },
  {
   "cell_type": "code",
   "execution_count": 8,
   "id": "96136aae",
   "metadata": {},
   "outputs": [
    {
     "data": {
      "text/html": [
       "<div>\n",
       "<style scoped>\n",
       "    .dataframe tbody tr th:only-of-type {\n",
       "        vertical-align: middle;\n",
       "    }\n",
       "\n",
       "    .dataframe tbody tr th {\n",
       "        vertical-align: top;\n",
       "    }\n",
       "\n",
       "    .dataframe thead th {\n",
       "        text-align: right;\n",
       "    }\n",
       "</style>\n",
       "<table border=\"1\" class=\"dataframe\">\n",
       "  <thead>\n",
       "    <tr style=\"text-align: right;\">\n",
       "      <th></th>\n",
       "      <th>NO_OIPA</th>\n",
       "      <th>ENTREES</th>\n",
       "      <th>PRIME_EMIS</th>\n",
       "    </tr>\n",
       "  </thead>\n",
       "  <tbody>\n",
       "    <tr>\n",
       "      <th>0</th>\n",
       "      <td>129888</td>\n",
       "      <td>150914.94</td>\n",
       "      <td>0.00</td>\n",
       "    </tr>\n",
       "    <tr>\n",
       "      <th>1</th>\n",
       "      <td>123843</td>\n",
       "      <td>9730.00</td>\n",
       "      <td>0.00</td>\n",
       "    </tr>\n",
       "    <tr>\n",
       "      <th>2</th>\n",
       "      <td>124686</td>\n",
       "      <td>42515.00</td>\n",
       "      <td>0.00</td>\n",
       "    </tr>\n",
       "    <tr>\n",
       "      <th>3</th>\n",
       "      <td>660068</td>\n",
       "      <td>1097089.80</td>\n",
       "      <td>53293.41</td>\n",
       "    </tr>\n",
       "    <tr>\n",
       "      <th>4</th>\n",
       "      <td>129367</td>\n",
       "      <td>48616.00</td>\n",
       "      <td>2099.79</td>\n",
       "    </tr>\n",
       "    <tr>\n",
       "      <th>...</th>\n",
       "      <td>...</td>\n",
       "      <td>...</td>\n",
       "      <td>...</td>\n",
       "    </tr>\n",
       "    <tr>\n",
       "      <th>4375</th>\n",
       "      <td>660389</td>\n",
       "      <td>80.00</td>\n",
       "      <td>0.00</td>\n",
       "    </tr>\n",
       "    <tr>\n",
       "      <th>4376</th>\n",
       "      <td>136033</td>\n",
       "      <td>0.00</td>\n",
       "      <td>0.00</td>\n",
       "    </tr>\n",
       "    <tr>\n",
       "      <th>4377</th>\n",
       "      <td>136711</td>\n",
       "      <td>0.00</td>\n",
       "      <td>0.00</td>\n",
       "    </tr>\n",
       "    <tr>\n",
       "      <th>4378</th>\n",
       "      <td>137364</td>\n",
       "      <td>0.00</td>\n",
       "      <td>607.50</td>\n",
       "    </tr>\n",
       "    <tr>\n",
       "      <th>4379</th>\n",
       "      <td>136991</td>\n",
       "      <td>0.00</td>\n",
       "      <td>818.00</td>\n",
       "    </tr>\n",
       "  </tbody>\n",
       "</table>\n",
       "<p>4380 rows × 3 columns</p>\n",
       "</div>"
      ],
      "text/plain": [
       "     NO_OIPA     ENTREES  PRIME_EMIS\n",
       "0     129888   150914.94        0.00\n",
       "1     123843     9730.00        0.00\n",
       "2     124686    42515.00        0.00\n",
       "3     660068  1097089.80    53293.41\n",
       "4     129367    48616.00     2099.79\n",
       "...      ...         ...         ...\n",
       "4375  660389       80.00        0.00\n",
       "4376  136033        0.00        0.00\n",
       "4377  136711        0.00        0.00\n",
       "4378  137364        0.00      607.50\n",
       "4379  136991        0.00      818.00\n",
       "\n",
       "[4380 rows x 3 columns]"
      ]
     },
     "execution_count": 8,
     "metadata": {},
     "output_type": "execute_result"
    }
   ],
   "source": [
    "merged_LC"
   ]
  },
  {
   "cell_type": "code",
   "execution_count": 9,
   "id": "9c356bfd",
   "metadata": {},
   "outputs": [
    {
     "name": "stdout",
     "output_type": "stream",
     "text": [
      "('NO_OIPA', 'ENTREES', 'PRIME_EMIS')\n"
     ]
    }
   ],
   "source": [
    "columns = tuple(merged_LC.columns)\n",
    "print(columns)"
   ]
  },
  {
   "cell_type": "code",
   "execution_count": 16,
   "id": "8f070b12",
   "metadata": {},
   "outputs": [
    {
     "data": {
      "text/html": [
       "<div>\n",
       "<style scoped>\n",
       "    .dataframe tbody tr th:only-of-type {\n",
       "        vertical-align: middle;\n",
       "    }\n",
       "\n",
       "    .dataframe tbody tr th {\n",
       "        vertical-align: top;\n",
       "    }\n",
       "\n",
       "    .dataframe thead th {\n",
       "        text-align: right;\n",
       "    }\n",
       "</style>\n",
       "<table border=\"1\" class=\"dataframe\">\n",
       "  <thead>\n",
       "    <tr style=\"text-align: right;\">\n",
       "      <th></th>\n",
       "      <th>NO_OIPA</th>\n",
       "      <th>ENTREES</th>\n",
       "    </tr>\n",
       "  </thead>\n",
       "  <tbody>\n",
       "    <tr>\n",
       "      <th>0</th>\n",
       "      <td>129888</td>\n",
       "      <td>150914.94</td>\n",
       "    </tr>\n",
       "    <tr>\n",
       "      <th>1</th>\n",
       "      <td>123843</td>\n",
       "      <td>9730.00</td>\n",
       "    </tr>\n",
       "    <tr>\n",
       "      <th>2</th>\n",
       "      <td>124686</td>\n",
       "      <td>42515.00</td>\n",
       "    </tr>\n",
       "    <tr>\n",
       "      <th>3</th>\n",
       "      <td>660068</td>\n",
       "      <td>1097089.80</td>\n",
       "    </tr>\n",
       "    <tr>\n",
       "      <th>4</th>\n",
       "      <td>129367</td>\n",
       "      <td>48616.00</td>\n",
       "    </tr>\n",
       "    <tr>\n",
       "      <th>5</th>\n",
       "      <td>133733</td>\n",
       "      <td>1775.00</td>\n",
       "    </tr>\n",
       "    <tr>\n",
       "      <th>6</th>\n",
       "      <td>127246</td>\n",
       "      <td>4835.00</td>\n",
       "    </tr>\n",
       "    <tr>\n",
       "      <th>7</th>\n",
       "      <td>127230</td>\n",
       "      <td>1039219.30</td>\n",
       "    </tr>\n",
       "    <tr>\n",
       "      <th>8</th>\n",
       "      <td>115782</td>\n",
       "      <td>33785.00</td>\n",
       "    </tr>\n",
       "    <tr>\n",
       "      <th>9</th>\n",
       "      <td>502242</td>\n",
       "      <td>333961.97</td>\n",
       "    </tr>\n",
       "    <tr>\n",
       "      <th>10</th>\n",
       "      <td>501404</td>\n",
       "      <td>5800.00</td>\n",
       "    </tr>\n",
       "    <tr>\n",
       "      <th>11</th>\n",
       "      <td>124274</td>\n",
       "      <td>1147734.75</td>\n",
       "    </tr>\n",
       "    <tr>\n",
       "      <th>12</th>\n",
       "      <td>660059</td>\n",
       "      <td>76832.65</td>\n",
       "    </tr>\n",
       "    <tr>\n",
       "      <th>13</th>\n",
       "      <td>137207</td>\n",
       "      <td>0.00</td>\n",
       "    </tr>\n",
       "    <tr>\n",
       "      <th>14</th>\n",
       "      <td>118684</td>\n",
       "      <td>417902.50</td>\n",
       "    </tr>\n",
       "    <tr>\n",
       "      <th>15</th>\n",
       "      <td>117853</td>\n",
       "      <td>150987.64</td>\n",
       "    </tr>\n",
       "    <tr>\n",
       "      <th>16</th>\n",
       "      <td>130779</td>\n",
       "      <td>0.00</td>\n",
       "    </tr>\n",
       "    <tr>\n",
       "      <th>17</th>\n",
       "      <td>130948</td>\n",
       "      <td>33300.00</td>\n",
       "    </tr>\n",
       "    <tr>\n",
       "      <th>18</th>\n",
       "      <td>132026</td>\n",
       "      <td>867870.03</td>\n",
       "    </tr>\n",
       "    <tr>\n",
       "      <th>19</th>\n",
       "      <td>130457</td>\n",
       "      <td>792040.93</td>\n",
       "    </tr>\n",
       "  </tbody>\n",
       "</table>\n",
       "</div>"
      ],
      "text/plain": [
       "   NO_OIPA     ENTREES\n",
       "0   129888   150914.94\n",
       "1   123843     9730.00\n",
       "2   124686    42515.00\n",
       "3   660068  1097089.80\n",
       "4   129367    48616.00\n",
       "5   133733     1775.00\n",
       "6   127246     4835.00\n",
       "7   127230  1039219.30\n",
       "8   115782    33785.00\n",
       "9   502242   333961.97\n",
       "10  501404     5800.00\n",
       "11  124274  1147734.75\n",
       "12  660059    76832.65\n",
       "13  137207        0.00\n",
       "14  118684   417902.50\n",
       "15  117853   150987.64\n",
       "16  130779        0.00\n",
       "17  130948    33300.00\n",
       "18  132026   867870.03\n",
       "19  130457   792040.93"
      ]
     },
     "execution_count": 16,
     "metadata": {},
     "output_type": "execute_result"
    }
   ],
   "source": [
    "df_epargne = merged_LC[[\"NO_OIPA\", \"ENTREES\"]].copy()\n",
    "df_epargne.sort_values(by=\"ENTREES\", ascending=False)\n",
    "df_epargne.head(20)"
   ]
  },
  {
   "cell_type": "code",
   "execution_count": 25,
   "id": "68a36411",
   "metadata": {},
   "outputs": [],
   "source": [
    "def fetch_data():\n",
    "    \n",
    "    df_vie = merged_LC[[\"NO_OIPA\", \"PRIME_EMIS\"]].copy()\n",
    "    \n",
    "    return df_vie\n",
    "\n",
    "df_vie_output = fetch_data()"
   ]
  },
  {
   "cell_type": "code",
   "execution_count": 27,
   "id": "ae38adf5",
   "metadata": {},
   "outputs": [
    {
     "data": {
      "text/html": [
       "<div>\n",
       "<style scoped>\n",
       "    .dataframe tbody tr th:only-of-type {\n",
       "        vertical-align: middle;\n",
       "    }\n",
       "\n",
       "    .dataframe tbody tr th {\n",
       "        vertical-align: top;\n",
       "    }\n",
       "\n",
       "    .dataframe thead th {\n",
       "        text-align: right;\n",
       "    }\n",
       "</style>\n",
       "<table border=\"1\" class=\"dataframe\">\n",
       "  <thead>\n",
       "    <tr style=\"text-align: right;\">\n",
       "      <th></th>\n",
       "      <th>NO_OIPA</th>\n",
       "      <th>PRIME_EMIS</th>\n",
       "    </tr>\n",
       "  </thead>\n",
       "  <tbody>\n",
       "    <tr>\n",
       "      <th>0</th>\n",
       "      <td>129888</td>\n",
       "      <td>0.00</td>\n",
       "    </tr>\n",
       "    <tr>\n",
       "      <th>1</th>\n",
       "      <td>123843</td>\n",
       "      <td>0.00</td>\n",
       "    </tr>\n",
       "    <tr>\n",
       "      <th>2</th>\n",
       "      <td>124686</td>\n",
       "      <td>0.00</td>\n",
       "    </tr>\n",
       "    <tr>\n",
       "      <th>3</th>\n",
       "      <td>660068</td>\n",
       "      <td>53293.41</td>\n",
       "    </tr>\n",
       "    <tr>\n",
       "      <th>4</th>\n",
       "      <td>129367</td>\n",
       "      <td>2099.79</td>\n",
       "    </tr>\n",
       "    <tr>\n",
       "      <th>...</th>\n",
       "      <td>...</td>\n",
       "      <td>...</td>\n",
       "    </tr>\n",
       "    <tr>\n",
       "      <th>4375</th>\n",
       "      <td>660389</td>\n",
       "      <td>0.00</td>\n",
       "    </tr>\n",
       "    <tr>\n",
       "      <th>4376</th>\n",
       "      <td>136033</td>\n",
       "      <td>0.00</td>\n",
       "    </tr>\n",
       "    <tr>\n",
       "      <th>4377</th>\n",
       "      <td>136711</td>\n",
       "      <td>0.00</td>\n",
       "    </tr>\n",
       "    <tr>\n",
       "      <th>4378</th>\n",
       "      <td>137364</td>\n",
       "      <td>607.50</td>\n",
       "    </tr>\n",
       "    <tr>\n",
       "      <th>4379</th>\n",
       "      <td>136991</td>\n",
       "      <td>818.00</td>\n",
       "    </tr>\n",
       "  </tbody>\n",
       "</table>\n",
       "<p>4380 rows × 2 columns</p>\n",
       "</div>"
      ],
      "text/plain": [
       "     NO_OIPA  PRIME_EMIS\n",
       "0     129888        0.00\n",
       "1     123843        0.00\n",
       "2     124686        0.00\n",
       "3     660068    53293.41\n",
       "4     129367     2099.79\n",
       "...      ...         ...\n",
       "4375  660389        0.00\n",
       "4376  136033        0.00\n",
       "4377  136711        0.00\n",
       "4378  137364      607.50\n",
       "4379  136991      818.00\n",
       "\n",
       "[4380 rows x 2 columns]"
      ]
     },
     "execution_count": 27,
     "metadata": {},
     "output_type": "execute_result"
    }
   ],
   "source": [
    "df_vie_output"
   ]
  },
  {
   "cell_type": "code",
   "execution_count": 18,
   "id": "1d69735e",
   "metadata": {},
   "outputs": [
    {
     "data": {
      "text/plain": [
       "[1, 5, 5]"
      ]
     },
     "execution_count": 18,
     "metadata": {},
     "output_type": "execute_result"
    }
   ],
   "source": []
  },
  {
   "cell_type": "code",
   "execution_count": 34,
   "id": "7375b6aa",
   "metadata": {},
   "outputs": [
    {
     "data": {
      "text/plain": [
       "0       129594\n",
       "1       124274\n",
       "2       570169\n",
       "3       125256\n",
       "4       117853\n",
       "         ...  \n",
       "4376    136252\n",
       "4377    133908\n",
       "4378    136033\n",
       "4379    136711\n",
       "4380    136991\n",
       "Name: NO_OIPA, Length: 4380, dtype: object"
      ]
     },
     "execution_count": 34,
     "metadata": {},
     "output_type": "execute_result"
    }
   ],
   "source": [
    "df_epargne_LC['NO_OIPA']"
   ]
  },
  {
   "cell_type": "code",
   "execution_count": 14,
   "id": "e302bb2c",
   "metadata": {},
   "outputs": [
    {
     "data": {
      "text/plain": [
       "DATE_PROD    datetime64[ns]\n",
       "NO_OIPA              object\n",
       "ENTREES             float64\n",
       "dtype: object"
      ]
     },
     "execution_count": 14,
     "metadata": {},
     "output_type": "execute_result"
    }
   ],
   "source": [
    "df_epargne_LC.dtypes"
   ]
  },
  {
   "cell_type": "code",
   "execution_count": 13,
   "id": "bd111fd1",
   "metadata": {},
   "outputs": [],
   "source": [
    "df_epargne_LC[\"DATE_PROD\"] = pd.to_datetime(df_epargne_LC[\"DATE_PROD\"])"
   ]
  },
  {
   "cell_type": "code",
   "execution_count": 7,
   "id": "bafdd655",
   "metadata": {},
   "outputs": [
    {
     "ename": "NameError",
     "evalue": "name 'datetime' is not defined",
     "output_type": "error",
     "traceback": [
      "\u001b[1;31m---------------------------------------------------------------------------\u001b[0m",
      "\u001b[1;31mNameError\u001b[0m                                 Traceback (most recent call last)",
      "Cell \u001b[1;32mIn[7], line 3\u001b[0m\n\u001b[0;32m      1\u001b[0m d \u001b[38;5;241m=\u001b[39m st\u001b[38;5;241m.\u001b[39mdate_input(\n\u001b[0;32m      2\u001b[0m     \u001b[38;5;124m\"\u001b[39m\u001b[38;5;124mWhen\u001b[39m\u001b[38;5;130;01m\\'\u001b[39;00m\u001b[38;5;124ms your birthday\u001b[39m\u001b[38;5;124m\"\u001b[39m,\n\u001b[1;32m----> 3\u001b[0m     \u001b[43mdatetime\u001b[49m\u001b[38;5;241m.\u001b[39mdate(\u001b[38;5;241m2019\u001b[39m, \u001b[38;5;241m7\u001b[39m, \u001b[38;5;241m6\u001b[39m))\n",
      "\u001b[1;31mNameError\u001b[0m: name 'datetime' is not defined"
     ]
    }
   ],
   "source": []
  },
  {
   "cell_type": "code",
   "execution_count": null,
   "id": "826a3e8d",
   "metadata": {},
   "outputs": [],
   "source": []
  }
 ],
 "metadata": {
  "kernelspec": {
   "display_name": "stream310",
   "language": "python",
   "name": "stream310"
  },
  "language_info": {
   "codemirror_mode": {
    "name": "ipython",
    "version": 3
   },
   "file_extension": ".py",
   "mimetype": "text/x-python",
   "name": "python",
   "nbconvert_exporter": "python",
   "pygments_lexer": "ipython3",
   "version": "3.10.8"
  }
 },
 "nbformat": 4,
 "nbformat_minor": 5
}
